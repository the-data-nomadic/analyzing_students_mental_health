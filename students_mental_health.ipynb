{
 "cells": [
  {
   "cell_type": "markdown",
   "id": "71ecbc64",
   "metadata": {},
   "source": [
    "Does going to university in a different country affect your mental health? A Japanese international university surveyed its students in 2018 and published a study the following year that was approved by several ethical and regulatory boards.\n",
    "\n",
    "The study found that international students have a higher risk of mental health difficulties than the general population, and that social connectedness (belonging to a social group) and acculturative stress (stress associated with joining a new culture) are predictive of depression.\n",
    "\n",
    "\n",
    "Explore the `students` data using PostgreSQL to find out if you would come to a similar conclusion for international students and see if the length of stay is a contributing factor.\n",
    "\n",
    "Here is a data description of the columns you may find helpful.\n"
   ]
  },
  {
   "cell_type": "markdown",
   "id": "1bb3a2e5",
   "metadata": {},
   "source": [
    "| Field Name    | Description                                      |\n",
    "| ------------- | ------------------------------------------------ |\n",
    "| `inter_dom`     | Types of students (international or domestic)   |\n",
    "| `japanese_cate` | Japanese language proficiency                    |\n",
    "| `english_cate`  | English language proficiency                     |\n",
    "| `academic`      | Current academic level (undergraduate or graduate) |\n",
    "| `age`           | Current age of student                           |\n",
    "| `stay`          | Current length of stay in years                  |\n",
    "| `todep`         | Total score of depression (PHQ-9 test)           |\n",
    "| `tosc`          | Total score of social connectedness (SCS test)   |\n",
    "| `toas`          | Total score of acculturative stress (ASISS test) |"
   ]
  },
  {
   "cell_type": "code",
   "execution_count": null,
   "id": "c7e32d00",
   "metadata": {},
   "outputs": [
    {
     "name": "stdout",
     "output_type": "stream",
     "text": [
      "  inter_dom academic   age  stay japanese_cate english_cate  todep  tosc  toas\n",
      "0     Inter     Grad  24.0   5.0       Average         High    0.0  34.0  91.0\n",
      "1     Inter     Grad  28.0   1.0          High         High    2.0  48.0  39.0\n",
      "2     Inter     Grad  25.0   6.0          High         High    2.0  41.0  51.0\n",
      "3     Inter     Grad  29.0   1.0           Low      Average    3.0  37.0  75.0\n",
      "4     Inter     Grad  28.0   1.0           Low      Average    3.0  37.0  82.0\n",
      "  inter_dom academic   age  stay japanese_cate english_cate  todep  tosc  toas\n",
      "0     Inter     Grad  24.0   5.0       Average         High    0.0  34.0  91.0\n",
      "1     Inter     Grad  28.0   1.0          High         High    2.0  48.0  39.0\n",
      "2     Inter     Grad  25.0   6.0          High         High    2.0  41.0  51.0\n",
      "3     Inter     Grad  29.0   1.0           Low      Average    3.0  37.0  75.0\n",
      "4     Inter     Grad  28.0   1.0           Low      Average    3.0  37.0  82.0\n"
     ]
    }
   ],
   "source": [
    "import pandas as pd\n",
    "from matplotlib import pyplot as plt\n",
    "\n",
    "# Define the columns you want to import\n",
    "selected_columns = [\n",
    "    \"inter_dom\",\n",
    "    \"japanese_cate\",\n",
    "    \"english_cate\",\n",
    "    \"academic\",\n",
    "    \"age\",\n",
    "    \"stay\",\n",
    "    \"todep\",\n",
    "    \"tosc\",\n",
    "    \"toas\"\n",
    "]\n",
    "\n",
    "# Load only the selected columns\n",
    "st = pd.read_csv(\"dataset/students.csv\", usecols=selected_columns)\n",
    "\n",
    "# Display the first few rows\n",
    "print(st.head())\n"
   ]
  },
  {
   "cell_type": "code",
   "execution_count": 17,
   "id": "cf716715",
   "metadata": {},
   "outputs": [
    {
     "name": "stdout",
     "output_type": "stream",
     "text": [
      "  inter_dom academic   age  stay japanese_cate english_cate  todep  tosc  toas\n",
      "0     Inter     Grad  24.0   5.0       Average         High    0.0  34.0  91.0\n",
      "1     Inter     Grad  28.0   1.0          High         High    2.0  48.0  39.0\n",
      "2     Inter     Grad  25.0   6.0          High         High    2.0  41.0  51.0\n",
      "3     Inter     Grad  29.0   1.0           Low      Average    3.0  37.0  75.0\n",
      "4     Inter     Grad  28.0   1.0           Low      Average    3.0  37.0  82.0\n",
      "   stay  count_int  average_phq  average_scs  average_as\n",
      "0  10.0          1        13.00        32.00       50.00\n",
      "1   8.0          1        10.00        44.00       65.00\n",
      "2   7.0          1         4.00        48.00       45.00\n",
      "3   6.0          3         6.00        38.00       58.67\n",
      "4   5.0          1         0.00        34.00       91.00\n",
      "5   4.0         14         8.57        33.93       87.71\n",
      "6   3.0         46         9.09        37.13       78.00\n",
      "7   2.0         39         8.28        37.08       77.67\n",
      "8   1.0         95         7.48        38.11       72.80\n"
     ]
    }
   ],
   "source": [
    "# Step 1: Filter international students\n",
    "intl_students = st[st[\"inter_dom\"] == \"Inter\"]\n",
    "print(intl_students.head())\n",
    "\n",
    "# Step 2–3: Group and aggregate\n",
    "summary = intl_students.groupby(\"stay\").agg(\n",
    "    count_int=(\"inter_dom\", \"count\"),\n",
    "    average_phq=(\"todep\", \"mean\"),\n",
    "    average_scs=(\"tosc\", \"mean\"),\n",
    "    average_as=(\"toas\", \"mean\")\n",
    ")\n",
    "\n",
    "# Step 4: Round averages\n",
    "summary = summary.round(2)\n",
    "\n",
    "# Step 5: Sort by stay descending\n",
    "summary = summary.sort_index(ascending=False)\n",
    "\n",
    "# Step 6: Reset index and rename DataFrame\n",
    "df = summary.reset_index()\n",
    "\n",
    "# Display the result\n",
    "print(df)\n"
   ]
  },
  {
   "cell_type": "markdown",
   "id": "6ec6b92f",
   "metadata": {},
   "source": [
    "average_phq: average depression score (todep)\n",
    "\n",
    "average_scs: average social connectedness score (tosc)\n",
    "\n",
    "average_as: average acculturative stress score (toas)"
   ]
  }
 ],
 "metadata": {
  "kernelspec": {
   "display_name": "analyzing_students_mental_health",
   "language": "python",
   "name": "python3"
  },
  "language_info": {
   "codemirror_mode": {
    "name": "ipython",
    "version": 3
   },
   "file_extension": ".py",
   "mimetype": "text/x-python",
   "name": "python",
   "nbconvert_exporter": "python",
   "pygments_lexer": "ipython3",
   "version": "3.11.9"
  }
 },
 "nbformat": 4,
 "nbformat_minor": 5
}
